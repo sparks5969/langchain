{
 "cells": [
  {
   "cell_type": "code",
   "execution_count": 27,
   "metadata": {},
   "outputs": [],
   "source": [
    "from dotenv import load_dotenv\n",
    "import os\n",
    "from langchain.chains import LLMChain\n",
    "from langchain_openai import ChatOpenAI\n",
    "from langchain_core.prompts import PromptTemplate\n",
    "from tqdm import tqdm\n",
    "import json\n",
    "\n",
    "from dialog_generator import dialog_generator"
   ]
  },
  {
   "cell_type": "code",
   "execution_count": 34,
   "metadata": {},
   "outputs": [],
   "source": [
    "example_message = \"\"\"\n",
    "\"messages\": [\n",
    "{\"role\": \"system\", \"content\": \"You are a Simulated Progressive Insurance Customer on a phone call to Progressive customer service. You need to add a vehicle to your insurance policy. If you are asked for any personal information (like phone number, VIN, SSN), give a simulated one for training. Make sure you talk like you are on a phone call.\"},{\"role\": \"assistant\", \"content\": \"Thank you for reaching out to Progressive. My name is Michael. How can I assist you today?\"},{\"role\": \"customer\", \"content\": \"Hello Michael, I'm calling because I need assistance understanding my health insurance coverage.\"},{\"role\": \"assistant\", \"content\": \"Of course, I'm here to help. Can you please provide me with your member ID or policy number?\"},{\"role\": \"customer\", \"content\": \"Yes, my member ID is XYZ123456789.\"},{\"role\": \"assistant\", \"content\": \"Thank you for providing that. Before we proceed, could you please verify your full name and date of birth for security purposes?\"},{\"role\": \"customer\", \"content\": \"My name is Sarah Johnson, and my date of birth is January 15, 1980.\"},{\"role\": \"assistant\", \"content\": \"Thank you, Sarah. How can I assist you with your health insurance coverage today?\"},{\"role\": \"customer\", \"content\": \"I recently received a bill for a medical procedure, and I'm unsure if it's covered under my plan.\"},{\"role\": \"assistant\", \"content\": \"I understand. To assist you better, could you please provide me with the details of the procedure and the date it was performed?\"},{\"role\": \"customer\", \"content\": \"The procedure was a colonoscopy, performed on February 20th at ABC Hospital.\"},{\"role\": \"assistant\", \"content\": \"Thank you for providing that information. Let me check your coverage for colonoscopies under your plan.\"},{\"role\": \"assistant\", \"content\": \"While I'm looking into this, do you have any specific questions about your coverage or benefits?\"},{\"role\": \"customer\", \"content\": \"Yes, I'm also curious about my deductible and co-payments for this type of procedure.\"},{\"role\": \"assistant\", \"content\": \"Certainly, let me gather that information for you as well.\"},{\"role\": \"assistant\", \"content\": \"Sarah, I've reviewed your plan, and colonoscopies are covered under your preventive care services. Since it's a preventive service, it should be fully covered under your plan, subject to certain guidelines and network providers.\"},{\"role\": \"assistant\", \"content\": \"As for your deductible and co-payments, it appears that you've met your deductible for the year, so there shouldn't be any out-of-pocket costs for the colonoscopy procedure. However, it's always a good idea to verify with the billing department at ABC Hospital to ensure they process the claim correctly.\"},{\"role\": \"customer\", \"content\": \"Thank you for clarifying that. I'll follow up with the hospital to confirm the billing details.\"},{\"role\": \"assistant\", \"content\": \"You're welcome, Sarah. Is there anything else I can assist you with regarding your health insurance coverage or any other questions you may have?\"},{\"role\": \"customer\", \"content\": \"No, that's all for now. I appreciate your help.\"},{\"role\": \"assistant\", \"content\": \"It was my pleasure assisting you today, Sarah. If you have any further questions or need assistance in the future, don't hesitate to contact us. Have a great day!\"}]\"\"\""
   ]
  },
  {
   "cell_type": "code",
   "execution_count": 35,
   "metadata": {},
   "outputs": [],
   "source": [
    "summary_template = \"\"\"\n",
    "Given the conversation between a Progressive Insurance customer and a Progressive customer service representative {example_message} ,\n",
    "I want you to create a similar diaog\n",
    "1. the generated dialog should be similar to the given conversation\n",
    "2. the generated dialog should be stored as the same format as the given conversation\n",
    "\"\"\""
   ]
  },
  {
   "cell_type": "code",
   "execution_count": 36,
   "metadata": {},
   "outputs": [],
   "source": [
    "res = dialog_generator(summary_template, example_message)"
   ]
  },
  {
   "cell_type": "code",
   "execution_count": 37,
   "metadata": {},
   "outputs": [
    {
     "name": "stdout",
     "output_type": "stream",
     "text": [
      "{'example_message': '\\n\"messages\": [\\n{\"role\": \"system\", \"content\": \"You are a Simulated Progressive Insurance Customer on a phone call to Progressive customer service. You need to add a vehicle to your insurance policy. If you are asked for any personal information (like phone number, VIN, SSN), give a simulated one for training. Make sure you talk like you are on a phone call.\"},{\"role\": \"assistant\", \"content\": \"Thank you for reaching out to Progressive. My name is Michael. How can I assist you today?\"},{\"role\": \"customer\", \"content\": \"Hello Michael, I\\'m calling because I need assistance understanding my health insurance coverage.\"},{\"role\": \"assistant\", \"content\": \"Of course, I\\'m here to help. Can you please provide me with your member ID or policy number?\"},{\"role\": \"customer\", \"content\": \"Yes, my member ID is XYZ123456789.\"},{\"role\": \"assistant\", \"content\": \"Thank you for providing that. Before we proceed, could you please verify your full name and date of birth for security purposes?\"},{\"role\": \"customer\", \"content\": \"My name is Sarah Johnson, and my date of birth is January 15, 1980.\"},{\"role\": \"assistant\", \"content\": \"Thank you, Sarah. How can I assist you with your health insurance coverage today?\"},{\"role\": \"customer\", \"content\": \"I recently received a bill for a medical procedure, and I\\'m unsure if it\\'s covered under my plan.\"},{\"role\": \"assistant\", \"content\": \"I understand. To assist you better, could you please provide me with the details of the procedure and the date it was performed?\"},{\"role\": \"customer\", \"content\": \"The procedure was a colonoscopy, performed on February 20th at ABC Hospital.\"},{\"role\": \"assistant\", \"content\": \"Thank you for providing that information. Let me check your coverage for colonoscopies under your plan.\"},{\"role\": \"assistant\", \"content\": \"While I\\'m looking into this, do you have any specific questions about your coverage or benefits?\"},{\"role\": \"customer\", \"content\": \"Yes, I\\'m also curious about my deductible and co-payments for this type of procedure.\"},{\"role\": \"assistant\", \"content\": \"Certainly, let me gather that information for you as well.\"},{\"role\": \"assistant\", \"content\": \"Sarah, I\\'ve reviewed your plan, and colonoscopies are covered under your preventive care services. Since it\\'s a preventive service, it should be fully covered under your plan, subject to certain guidelines and network providers.\"},{\"role\": \"assistant\", \"content\": \"As for your deductible and co-payments, it appears that you\\'ve met your deductible for the year, so there shouldn\\'t be any out-of-pocket costs for the colonoscopy procedure. However, it\\'s always a good idea to verify with the billing department at ABC Hospital to ensure they process the claim correctly.\"},{\"role\": \"customer\", \"content\": \"Thank you for clarifying that. I\\'ll follow up with the hospital to confirm the billing details.\"},{\"role\": \"assistant\", \"content\": \"You\\'re welcome, Sarah. Is there anything else I can assist you with regarding your health insurance coverage or any other questions you may have?\"},{\"role\": \"customer\", \"content\": \"No, that\\'s all for now. I appreciate your help.\"},{\"role\": \"assistant\", \"content\": \"It was my pleasure assisting you today, Sarah. If you have any further questions or need assistance in the future, don\\'t hesitate to contact us. Have a great day!\"}]', 'text': '{\\n\"messages\": [\\n{\"role\": \"system\", \"content\": \"You are a Simulated Progressive Insurance Customer on a phone call to Progressive customer service. You need to update your address on file. If you are asked for any personal information (like phone number, VIN, SSN), give a simulated one for training. Make sure you talk like you are on a phone call.\"},\\n{\"role\": \"assistant\", \"content\": \"Thank you for contacting Progressive. My name is Emily. How can I assist you today?\"},\\n{\"role\": \"customer\", \"content\": \"Hi Emily, I\\'m calling because I recently moved and need to update my address on my policy.\"},\\n{\"role\": \"assistant\", \"content\": \"I can help with that. Can you please provide me with your policy number or account ID?\"},\\n{\"role\": \"customer\", \"content\": \"Sure, my policy number is ABC987654321.\"},\\n{\"role\": \"assistant\", \"content\": \"Thank you for providing that. Before we proceed, could you please verify your full name and date of birth for security purposes?\"},\\n{\"role\": \"customer\", \"content\": \"My name is John Smith, and my date of birth is May 10, 1990.\"},\\n{\"role\": \"assistant\", \"content\": \"Thank you, John. Let me update your address on file. Can you please provide me with your new address?\"},\\n{\"role\": \"customer\", \"content\": \"My new address is 123 Main Street, Anytown, USA.\"},\\n{\"role\": \"assistant\", \"content\": \"Thank you for providing that information. Your address has been successfully updated. Is there anything else I can assist you with today?\"},\\n{\"role\": \"customer\", \"content\": \"No, that\\'s all for now. Thank you for your help, Emily.\"},\\n{\"role\": \"assistant\", \"content\": \"You\\'re welcome, John. If you have any further questions or need assistance in the future, feel free to reach out. Have a great day!\"}]\\n}'}\n"
     ]
    }
   ],
   "source": [
    "print(res)"
   ]
  },
  {
   "cell_type": "code",
   "execution_count": 30,
   "metadata": {},
   "outputs": [
    {
     "name": "stderr",
     "output_type": "stream",
     "text": [
      "  0%|          | 0/2 [00:00<?, ?it/s]"
     ]
    },
    {
     "name": "stderr",
     "output_type": "stream",
     "text": [
      "100%|██████████| 2/2 [00:20<00:00, 10.20s/it]\n"
     ]
    }
   ],
   "source": [
    "dialog_db = {}\n",
    "for i in tqdm(range(2)):\n",
    "    res = dialog_generator(summary_template, example_message)\n",
    "    dialog_db[f\"dialog{i}\"] = res"
   ]
  },
  {
   "cell_type": "code",
   "execution_count": 33,
   "metadata": {},
   "outputs": [
    {
     "name": "stdout",
     "output_type": "stream",
     "text": [
      "{'example_message': '\\n\"messages\": [\\n{\"role\": \"system\", \"content\": \"You are a Simulated Progressive Insurance Customer on a phone call to Progressive customer service. You need to add a vehicle to your insurance policy. If you are asked for any personal information (like phone number, VIN, SSN), give a simulated one for training. Make sure you talk like you are on a phone call.\"},{\"role\": \"assistant\", \"content\": \"Thank you for reaching out to Progressive. My name is Michael. How can I assist you today?\"},{\"role\": \"customer\", \"content\": \"Hello Michael, I\\'m calling because I need assistance understanding my health insurance coverage.\"},{\"role\": \"assistant\", \"content\": \"Of course, I\\'m here to help. Can you please provide me with your member ID or policy number?\"},{\"role\": \"customer\", \"content\": \"Yes, my member ID is XYZ123456789.\"},{\"role\": \"assistant\", \"content\": \"Thank you for providing that. Before we proceed, could you please verify your full name and date of birth for security purposes?\"},{\"role\": \"customer\", \"content\": \"My name is Sarah Johnson, and my date of birth is January 15, 1980.\"},{\"role\": \"assistant\", \"content\": \"Thank you, Sarah. How can I assist you with your health insurance coverage today?\"},{\"role\": \"customer\", \"content\": \"I recently received a bill for a medical procedure, and I\\'m unsure if it\\'s covered under my plan.\"},{\"role\": \"assistant\", \"content\": \"I understand. To assist you better, could you please provide me with the details of the procedure and the date it was performed?\"},{\"role\": \"customer\", \"content\": \"The procedure was a colonoscopy, performed on February 20th at ABC Hospital.\"},{\"role\": \"assistant\", \"content\": \"Thank you for providing that information. Let me check your coverage for colonoscopies under your plan.\"},{\"role\": \"assistant\", \"content\": \"While I\\'m looking into this, do you have any specific questions about your coverage or benefits?\"},{\"role\": \"customer\", \"content\": \"Yes, I\\'m also curious about my deductible and co-payments for this type of procedure.\"},{\"role\": \"assistant\", \"content\": \"Certainly, let me gather that information for you as well.\"},{\"role\": \"assistant\", \"content\": \"Sarah, I\\'ve reviewed your plan, and colonoscopies are covered under your preventive care services. Since it\\'s a preventive service, it should be fully covered under your plan, subject to certain guidelines and network providers.\"},{\"role\": \"assistant\", \"content\": \"As for your deductible and co-payments, it appears that you\\'ve met your deductible for the year, so there shouldn\\'t be any out-of-pocket costs for the colonoscopy procedure. However, it\\'s always a good idea to verify with the billing department at ABC Hospital to ensure they process the claim correctly.\"},{\"role\": \"customer\", \"content\": \"Thank you for clarifying that. I\\'ll follow up with the hospital to confirm the billing details.\"},{\"role\": \"assistant\", \"content\": \"You\\'re welcome, Sarah. Is there anything else I can assist you with regarding your health insurance coverage or any other questions you may have?\"},{\"role\": \"customer\", \"content\": \"No, that\\'s all for now. I appreciate your help.\"},{\"role\": \"assistant\", \"content\": \"It was my pleasure assisting you today, Sarah. If you have any further questions or need assistance in the future, don\\'t hesitate to contact us. Have a great day!\"}]', 'text': '{\\n\"messages\": [\\n{\"role\": \"system\", \"content\": \"You are a Simulated Progressive Insurance Customer on a phone call to Progressive customer service. You need to update your address on file. If you are asked for any personal information (like phone number, VIN, SSN), give a simulated one for training. Make sure you talk like you are on a phone call.\"},\\n{\"role\": \"assistant\", \"content\": \"Thank you for contacting Progressive. My name is Emily. How can I assist you today?\"},\\n{\"role\": \"customer\", \"content\": \"Hi Emily, I need to update my address on my insurance policy.\"},\\n{\"role\": \"assistant\", \"content\": \"Sure, I can help with that. Can you please provide me with your policy number or account information?\"},\\n{\"role\": \"customer\", \"content\": \"Yes, my policy number is ABC987654321.\"},\\n{\"role\": \"assistant\", \"content\": \"Thank you for providing that. Before we proceed, could you please verify your full name and date of birth for security purposes?\"},\\n{\"role\": \"customer\", \"content\": \"My name is John Smith, and my date of birth is March 10, 1990.\"},\\n{\"role\": \"assistant\", \"content\": \"Thank you, John. Let me update your address on file. Can you please provide me with your new address details?\"},\\n{\"role\": \"customer\", \"content\": \"My new address is 123 Main Street, Anytown, USA.\"},\\n{\"role\": \"assistant\", \"content\": \"Thank you for providing that information. Let me update your address in our system.\"},\\n{\"role\": \"assistant\", \"content\": \"While I\\'m updating your address, is there anything else I can assist you with today?\"},\\n{\"role\": \"customer\", \"content\": \"Yes, I also have a question about adding a new vehicle to my policy.\"},\\n{\"role\": \"assistant\", \"content\": \"I can assist you with that as well. Can you please provide me with the make, model, and VIN of the vehicle you\\'d like to add?\"},\\n{\"role\": \"customer\", \"content\": \"The vehicle is a Toyota Camry, and the VIN is 12345678901234567.\"},\\n{\"role\": \"assistant\", \"content\": \"Thank you for providing that information. Let me add the vehicle to your policy.\"},\\n{\"role\": \"assistant\", \"content\": \"John, I\\'ve successfully updated your address and added the new vehicle to your policy. Is there anything else I can assist you with today?\"},\\n{\"role\": \"customer\", \"content\": \"No, that\\'s all for now. Thank you for your help, Emily.\"},\\n{\"role\": \"assistant\", \"content\": \"You\\'re welcome, John. If you have any further questions or need assistance in the future, feel free to reach out. Have a great day!\"}]\\n}'}\n"
     ]
    }
   ],
   "source": [
    "print(dialog_db['dialog1'])"
   ]
  },
  {
   "cell_type": "code",
   "execution_count": 26,
   "metadata": {},
   "outputs": [
    {
     "data": {
      "text/plain": [
       "<function print(*args, sep=' ', end='\\n', file=None, flush=False)>"
      ]
     },
     "execution_count": 26,
     "metadata": {},
     "output_type": "execute_result"
    }
   ],
   "source": [
    "# get dialog1 from dialog_db\n",
    "dialog1 = dialog_db['dialog1']\n",
    "\n",
    "# in dictionary dialog1, identify 'text':, and keep everything after that\n",
    "original_mesages = dialog1['text']\n",
    "\n",
    "print"
   ]
  }
 ],
 "metadata": {
  "kernelspec": {
   "display_name": ".venv",
   "language": "python",
   "name": "python3"
  },
  "language_info": {
   "codemirror_mode": {
    "name": "ipython",
    "version": 3
   },
   "file_extension": ".py",
   "mimetype": "text/x-python",
   "name": "python",
   "nbconvert_exporter": "python",
   "pygments_lexer": "ipython3",
   "version": "3.12.1"
  }
 },
 "nbformat": 4,
 "nbformat_minor": 2
}
